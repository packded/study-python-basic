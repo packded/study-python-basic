{
 "cells": [
  {
   "cell_type": "markdown",
   "id": "06e83b56",
   "metadata": {},
   "source": [
    "concept ของ decorator คือ \n",
    "fuction ที่ใช้กับ fuction อีกที\n",
    "\n",
    "megaman()  >>  capsule(magaman) ได้ผลลัพธ์   magaman() + upgrade แล้ว"
   ]
  },
  {
   "cell_type": "code",
   "execution_count": 1,
   "id": "73627673",
   "metadata": {},
   "outputs": [
    {
     "name": "stdout",
     "output_type": "stream",
     "text": [
      "Megaman\n"
     ]
    }
   ],
   "source": [
    "def megaman():\n",
    "    print('Megaman')\n",
    "\n",
    "megaman()"
   ]
  },
  {
   "cell_type": "code",
   "execution_count": 6,
   "id": "26069bb4",
   "metadata": {},
   "outputs": [],
   "source": [
    "#การทำงานของ decorator จะ return new fuction กลับไปเสมอ\n",
    "\n",
    "def capsule(function):\n",
    "    def new_function():\n",
    "        function()\n",
    "        print('power up!!')\n",
    "    \n",
    "    return new_function"
   ]
  },
  {
   "cell_type": "code",
   "execution_count": 7,
   "id": "051c5b09",
   "metadata": {},
   "outputs": [
    {
     "name": "stdout",
     "output_type": "stream",
     "text": [
      "Megaman\n",
      "power up!!\n"
     ]
    }
   ],
   "source": [
    "#use decorator\n",
    "@capsule\n",
    "def megaman():\n",
    "    print('Megaman')\n",
    "    \n",
    "megaman()"
   ]
  },
  {
   "cell_type": "code",
   "execution_count": 9,
   "id": "75641be8",
   "metadata": {},
   "outputs": [
    {
     "name": "stdout",
     "output_type": "stream",
     "text": [
      "Zero\n",
      "power up!!\n"
     ]
    }
   ],
   "source": [
    "@capsule\n",
    "def zero():\n",
    "    print('Zero')\n",
    "    \n",
    "zero()"
   ]
  },
  {
   "cell_type": "code",
   "execution_count": null,
   "id": "c068801d",
   "metadata": {},
   "outputs": [],
   "source": []
  },
  {
   "cell_type": "code",
   "execution_count": 10,
   "id": "fcbce6a6",
   "metadata": {},
   "outputs": [
    {
     "name": "stdout",
     "output_type": "stream",
     "text": [
      "78.53981633974483\n",
      "39.269908169872416\n"
     ]
    }
   ],
   "source": [
    "import math\n",
    "\n",
    "def circle_area(radius):\n",
    "    return math.pi * radius * radius\n",
    "\n",
    "def ellipse_area(width,height):\n",
    "    return math.pi * 0.25 * width * height\n",
    "\n",
    "print(circle_area(5))\n",
    "print(ellipse_area(10,5))"
   ]
  },
  {
   "cell_type": "code",
   "execution_count": 14,
   "id": "d71054da",
   "metadata": {},
   "outputs": [
    {
     "name": "stdout",
     "output_type": "stream",
     "text": [
      "78.54\n",
      "39.27\n"
     ]
    }
   ],
   "source": [
    "#ใช้ decorator มาเพื่อลดจุดทศนิยมลง\n",
    "import math\n",
    "\n",
    "def pretty_number(function):\n",
    "    def new_function(*args,**kwargs):  #ต้องใส่เรพาะแต่ละฟังชั้นมีตัวแปรไม่เท่ากัน\n",
    "        number = function(*args,**kwargs)\n",
    "        return '{:.2f}'.format(number)\n",
    "        \n",
    "    return new_function\n",
    "\n",
    "@pretty_number\n",
    "def circle_area(radius):\n",
    "    return math.pi * radius * radius\n",
    "\n",
    "@pretty_number\n",
    "def ellipse_area(width,height):\n",
    "    return math.pi * 0.25 * width * height\n",
    "\n",
    "print(circle_area(5))\n",
    "print(ellipse_area(10,5))"
   ]
  },
  {
   "cell_type": "code",
   "execution_count": 15,
   "id": "e47b6f00",
   "metadata": {},
   "outputs": [
    {
     "data": {
      "text/plain": [
       "str"
      ]
     },
     "execution_count": 15,
     "metadata": {},
     "output_type": "execute_result"
    }
   ],
   "source": [
    "type(circle_area(5))"
   ]
  },
  {
   "cell_type": "code",
   "execution_count": null,
   "id": "564ca575",
   "metadata": {},
   "outputs": [],
   "source": []
  }
 ],
 "metadata": {
  "kernelspec": {
   "display_name": "Python 3",
   "language": "python",
   "name": "python3"
  },
  "language_info": {
   "codemirror_mode": {
    "name": "ipython",
    "version": 3
   },
   "file_extension": ".py",
   "mimetype": "text/x-python",
   "name": "python",
   "nbconvert_exporter": "python",
   "pygments_lexer": "ipython3",
   "version": "3.7.10"
  }
 },
 "nbformat": 4,
 "nbformat_minor": 5
}
