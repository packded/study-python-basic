{
 "cells": [
  {
   "cell_type": "code",
   "execution_count": 1,
   "id": "8e240f3b",
   "metadata": {},
   "outputs": [
    {
     "name": "stdout",
     "output_type": "stream",
     "text": [
      "['h', 'u', 'm', 'a', 'n']\n"
     ]
    }
   ],
   "source": [
    "h_letter = []\n",
    "for letter in 'human':\n",
    "    h_letter.append(letter)\n",
    "    \n",
    "print(h_letter)"
   ]
  },
  {
   "cell_type": "code",
   "execution_count": 2,
   "id": "ac064728",
   "metadata": {},
   "outputs": [
    {
     "data": {
      "text/plain": [
       "['h', 'u', 'm', 'a', 'n']"
      ]
     },
     "execution_count": 2,
     "metadata": {},
     "output_type": "execute_result"
    }
   ],
   "source": [
    "[i for i in 'human']"
   ]
  },
  {
   "cell_type": "code",
   "execution_count": 4,
   "id": "33421862",
   "metadata": {},
   "outputs": [
    {
     "data": {
      "text/plain": [
       "['even', 'odd', 'even', 'odd', 'even', 'odd', 'even', 'odd', 'even', 'odd']"
      ]
     },
     "execution_count": 4,
     "metadata": {},
     "output_type": "execute_result"
    }
   ],
   "source": [
    "['even' if j%2==0 else 'odd' for j in range(10)]"
   ]
  },
  {
   "cell_type": "code",
   "execution_count": 5,
   "id": "e2dcea2f",
   "metadata": {},
   "outputs": [
    {
     "data": {
      "text/plain": [
       "[2, 4, 6, 8, 10, 12, 14, 16, 18, 20]"
      ]
     },
     "execution_count": 5,
     "metadata": {},
     "output_type": "execute_result"
    }
   ],
   "source": [
    "[q for q in range(1,21) if q%2==0]"
   ]
  },
  {
   "cell_type": "code",
   "execution_count": 1,
   "id": "54ae011f",
   "metadata": {},
   "outputs": [],
   "source": [
    "import pandas as pd\n"
   ]
  },
  {
   "cell_type": "code",
   "execution_count": 24,
   "id": "3c185ff2",
   "metadata": {},
   "outputs": [
    {
     "data": {
      "text/html": [
       "<div>\n",
       "<style scoped>\n",
       "    .dataframe tbody tr th:only-of-type {\n",
       "        vertical-align: middle;\n",
       "    }\n",
       "\n",
       "    .dataframe tbody tr th {\n",
       "        vertical-align: top;\n",
       "    }\n",
       "\n",
       "    .dataframe thead th {\n",
       "        text-align: right;\n",
       "    }\n",
       "</style>\n",
       "<table border=\"1\" class=\"dataframe\">\n",
       "  <thead>\n",
       "    <tr style=\"text-align: right;\">\n",
       "      <th></th>\n",
       "      <th>ID</th>\n",
       "      <th>Math</th>\n",
       "      <th>Science</th>\n",
       "    </tr>\n",
       "  </thead>\n",
       "  <tbody>\n",
       "    <tr>\n",
       "      <th>0</th>\n",
       "      <td>A</td>\n",
       "      <td>91</td>\n",
       "      <td>66</td>\n",
       "    </tr>\n",
       "    <tr>\n",
       "      <th>1</th>\n",
       "      <td>B</td>\n",
       "      <td>75</td>\n",
       "      <td>70</td>\n",
       "    </tr>\n",
       "    <tr>\n",
       "      <th>2</th>\n",
       "      <td>C</td>\n",
       "      <td>62</td>\n",
       "      <td>75</td>\n",
       "    </tr>\n",
       "    <tr>\n",
       "      <th>3</th>\n",
       "      <td>D</td>\n",
       "      <td>80</td>\n",
       "      <td>77</td>\n",
       "    </tr>\n",
       "  </tbody>\n",
       "</table>\n",
       "</div>"
      ],
      "text/plain": [
       "  ID  Math  Science\n",
       "0  A    91       66\n",
       "1  B    75       70\n",
       "2  C    62       75\n",
       "3  D    80       77"
      ]
     },
     "execution_count": 24,
     "metadata": {},
     "output_type": "execute_result"
    }
   ],
   "source": [
    "data = {'ID' : ['A', 'B', 'C', 'D'], 'Math':[91, 75, 62, 80], 'Science':[66, 70, 75, 77]}\n",
    "df = pd.DataFrame(data)\n",
    "df"
   ]
  },
  {
   "cell_type": "code",
   "execution_count": 25,
   "id": "a7c6befe",
   "metadata": {},
   "outputs": [],
   "source": [
    "df['result Math'] = df['Math'].apply(lambda x: 'pass' if x >= 80 else 'fail')\n",
    "df['result Science'] = df['Science'].apply(lambda x: 'pass' if x >= 70 else 'fail')"
   ]
  },
  {
   "cell_type": "code",
   "execution_count": 26,
   "id": "61d2afad",
   "metadata": {},
   "outputs": [
    {
     "data": {
      "text/html": [
       "<div>\n",
       "<style scoped>\n",
       "    .dataframe tbody tr th:only-of-type {\n",
       "        vertical-align: middle;\n",
       "    }\n",
       "\n",
       "    .dataframe tbody tr th {\n",
       "        vertical-align: top;\n",
       "    }\n",
       "\n",
       "    .dataframe thead th {\n",
       "        text-align: right;\n",
       "    }\n",
       "</style>\n",
       "<table border=\"1\" class=\"dataframe\">\n",
       "  <thead>\n",
       "    <tr style=\"text-align: right;\">\n",
       "      <th></th>\n",
       "      <th>ID</th>\n",
       "      <th>Math</th>\n",
       "      <th>Science</th>\n",
       "      <th>result Math</th>\n",
       "      <th>result Science</th>\n",
       "    </tr>\n",
       "  </thead>\n",
       "  <tbody>\n",
       "    <tr>\n",
       "      <th>0</th>\n",
       "      <td>A</td>\n",
       "      <td>91</td>\n",
       "      <td>66</td>\n",
       "      <td>pass</td>\n",
       "      <td>fail</td>\n",
       "    </tr>\n",
       "    <tr>\n",
       "      <th>1</th>\n",
       "      <td>B</td>\n",
       "      <td>75</td>\n",
       "      <td>70</td>\n",
       "      <td>fail</td>\n",
       "      <td>pass</td>\n",
       "    </tr>\n",
       "    <tr>\n",
       "      <th>2</th>\n",
       "      <td>C</td>\n",
       "      <td>62</td>\n",
       "      <td>75</td>\n",
       "      <td>fail</td>\n",
       "      <td>pass</td>\n",
       "    </tr>\n",
       "    <tr>\n",
       "      <th>3</th>\n",
       "      <td>D</td>\n",
       "      <td>80</td>\n",
       "      <td>77</td>\n",
       "      <td>pass</td>\n",
       "      <td>pass</td>\n",
       "    </tr>\n",
       "  </tbody>\n",
       "</table>\n",
       "</div>"
      ],
      "text/plain": [
       "  ID  Math  Science result Math result Science\n",
       "0  A    91       66        pass           fail\n",
       "1  B    75       70        fail           pass\n",
       "2  C    62       75        fail           pass\n",
       "3  D    80       77        pass           pass"
      ]
     },
     "execution_count": 26,
     "metadata": {},
     "output_type": "execute_result"
    }
   ],
   "source": [
    "df['result'] = df['result Math','result Science'].apply()"
   ]
  },
  {
   "cell_type": "code",
   "execution_count": 3,
   "id": "cad12a8e",
   "metadata": {},
   "outputs": [
    {
     "name": "stdout",
     "output_type": "stream",
     "text": [
      "Collecting yfinance\n",
      "  Downloading yfinance-0.2.12-py2.py3-none-any.whl (59 kB)\n",
      "     ---------------------------------------- 59.2/59.2 kB 1.6 MB/s eta 0:00:00\n",
      "Requirement already satisfied: numpy>=1.16.5 in d:\\users\\nattapol\\anaconda3\\envs\\ml101\\lib\\site-packages (from yfinance) (1.23.5)\n",
      "Requirement already satisfied: requests>=2.26 in d:\\users\\nattapol\\anaconda3\\envs\\ml101\\lib\\site-packages (from yfinance) (2.28.1)\n",
      "Requirement already satisfied: pytz>=2022.5 in d:\\users\\nattapol\\anaconda3\\envs\\ml101\\lib\\site-packages (from yfinance) (2022.7)\n",
      "Requirement already satisfied: pandas>=1.3.0 in d:\\users\\nattapol\\anaconda3\\envs\\ml101\\lib\\site-packages (from yfinance) (1.5.2)\n",
      "Collecting multitasking>=0.0.7\n",
      "  Downloading multitasking-0.0.11-py3-none-any.whl (8.5 kB)\n",
      "Requirement already satisfied: lxml>=4.9.1 in d:\\users\\nattapol\\anaconda3\\envs\\ml101\\lib\\site-packages (from yfinance) (4.9.1)\n",
      "Collecting html5lib>=1.1\n",
      "  Downloading html5lib-1.1-py2.py3-none-any.whl (112 kB)\n",
      "     -------------------------------------- 112.2/112.2 kB 6.4 MB/s eta 0:00:00\n",
      "Collecting frozendict>=2.3.4\n",
      "  Downloading frozendict-2.3.4-cp38-cp38-win_amd64.whl (34 kB)\n",
      "Requirement already satisfied: cryptography>=3.3.2 in d:\\users\\nattapol\\anaconda3\\envs\\ml101\\lib\\site-packages (from yfinance) (38.0.4)\n",
      "Requirement already satisfied: beautifulsoup4>=4.11.1 in d:\\users\\nattapol\\anaconda3\\envs\\ml101\\lib\\site-packages (from yfinance) (4.11.1)\n",
      "Collecting appdirs>=1.4.4\n",
      "  Using cached appdirs-1.4.4-py2.py3-none-any.whl (9.6 kB)\n",
      "Requirement already satisfied: soupsieve>1.2 in d:\\users\\nattapol\\anaconda3\\envs\\ml101\\lib\\site-packages (from beautifulsoup4>=4.11.1->yfinance) (2.3.2.post1)\n",
      "Requirement already satisfied: cffi>=1.12 in d:\\users\\nattapol\\anaconda3\\envs\\ml101\\lib\\site-packages (from cryptography>=3.3.2->yfinance) (1.15.1)\n",
      "Requirement already satisfied: webencodings in d:\\users\\nattapol\\anaconda3\\envs\\ml101\\lib\\site-packages (from html5lib>=1.1->yfinance) (0.5.1)\n",
      "Requirement already satisfied: six>=1.9 in d:\\users\\nattapol\\anaconda3\\envs\\ml101\\lib\\site-packages (from html5lib>=1.1->yfinance) (1.16.0)\n",
      "Requirement already satisfied: python-dateutil>=2.8.1 in d:\\users\\nattapol\\anaconda3\\envs\\ml101\\lib\\site-packages (from pandas>=1.3.0->yfinance) (2.8.2)\n",
      "Requirement already satisfied: certifi>=2017.4.17 in d:\\users\\nattapol\\anaconda3\\envs\\ml101\\lib\\site-packages (from requests>=2.26->yfinance) (2022.12.7)\n",
      "Requirement already satisfied: urllib3<1.27,>=1.21.1 in d:\\users\\nattapol\\anaconda3\\envs\\ml101\\lib\\site-packages (from requests>=2.26->yfinance) (1.26.14)\n",
      "Requirement already satisfied: charset-normalizer<3,>=2 in d:\\users\\nattapol\\anaconda3\\envs\\ml101\\lib\\site-packages (from requests>=2.26->yfinance) (2.0.4)\n",
      "Requirement already satisfied: idna<4,>=2.5 in d:\\users\\nattapol\\anaconda3\\envs\\ml101\\lib\\site-packages (from requests>=2.26->yfinance) (3.4)\n",
      "Requirement already satisfied: pycparser in d:\\users\\nattapol\\anaconda3\\envs\\ml101\\lib\\site-packages (from cffi>=1.12->cryptography>=3.3.2->yfinance) (2.21)\n",
      "Installing collected packages: multitasking, appdirs, html5lib, frozendict, yfinance\n",
      "Successfully installed appdirs-1.4.4 frozendict-2.3.4 html5lib-1.1 multitasking-0.0.11 yfinance-0.2.12\n"
     ]
    }
   ],
   "source": [
    "!pip install yfinance"
   ]
  },
  {
   "cell_type": "code",
   "execution_count": 4,
   "id": "e53a5c35",
   "metadata": {},
   "outputs": [
    {
     "name": "stdout",
     "output_type": "stream",
     "text": [
      "Collecting pandas_datareader\n",
      "  Downloading pandas_datareader-0.10.0-py3-none-any.whl (109 kB)\n",
      "     -------------------------------------- 109.5/109.5 kB 3.1 MB/s eta 0:00:00\n",
      "Requirement already satisfied: pandas>=0.23 in d:\\users\\nattapol\\anaconda3\\envs\\ml101\\lib\\site-packages (from pandas_datareader) (1.5.2)\n",
      "Requirement already satisfied: requests>=2.19.0 in d:\\users\\nattapol\\anaconda3\\envs\\ml101\\lib\\site-packages (from pandas_datareader) (2.28.1)\n",
      "Requirement already satisfied: lxml in d:\\users\\nattapol\\anaconda3\\envs\\ml101\\lib\\site-packages (from pandas_datareader) (4.9.1)\n",
      "Requirement already satisfied: pytz>=2020.1 in d:\\users\\nattapol\\anaconda3\\envs\\ml101\\lib\\site-packages (from pandas>=0.23->pandas_datareader) (2022.7)\n",
      "Requirement already satisfied: python-dateutil>=2.8.1 in d:\\users\\nattapol\\anaconda3\\envs\\ml101\\lib\\site-packages (from pandas>=0.23->pandas_datareader) (2.8.2)\n",
      "Requirement already satisfied: numpy>=1.20.3 in d:\\users\\nattapol\\anaconda3\\envs\\ml101\\lib\\site-packages (from pandas>=0.23->pandas_datareader) (1.23.5)\n",
      "Requirement already satisfied: charset-normalizer<3,>=2 in d:\\users\\nattapol\\anaconda3\\envs\\ml101\\lib\\site-packages (from requests>=2.19.0->pandas_datareader) (2.0.4)\n",
      "Requirement already satisfied: certifi>=2017.4.17 in d:\\users\\nattapol\\anaconda3\\envs\\ml101\\lib\\site-packages (from requests>=2.19.0->pandas_datareader) (2022.12.7)\n",
      "Requirement already satisfied: idna<4,>=2.5 in d:\\users\\nattapol\\anaconda3\\envs\\ml101\\lib\\site-packages (from requests>=2.19.0->pandas_datareader) (3.4)\n",
      "Requirement already satisfied: urllib3<1.27,>=1.21.1 in d:\\users\\nattapol\\anaconda3\\envs\\ml101\\lib\\site-packages (from requests>=2.19.0->pandas_datareader) (1.26.14)\n",
      "Requirement already satisfied: six>=1.5 in d:\\users\\nattapol\\anaconda3\\envs\\ml101\\lib\\site-packages (from python-dateutil>=2.8.1->pandas>=0.23->pandas_datareader) (1.16.0)\n",
      "Installing collected packages: pandas_datareader\n",
      "Successfully installed pandas_datareader-0.10.0\n"
     ]
    }
   ],
   "source": [
    "!pip install pandas_datareader"
   ]
  },
  {
   "cell_type": "code",
   "execution_count": 5,
   "id": "739fe8c4",
   "metadata": {},
   "outputs": [
    {
     "name": "stdout",
     "output_type": "stream",
     "text": [
      "Collecting quandl\n",
      "  Downloading Quandl-3.7.0-py2.py3-none-any.whl (26 kB)\n",
      "Requirement already satisfied: six in d:\\users\\nattapol\\anaconda3\\envs\\ml101\\lib\\site-packages (from quandl) (1.16.0)\n",
      "Requirement already satisfied: numpy>=1.8 in d:\\users\\nattapol\\anaconda3\\envs\\ml101\\lib\\site-packages (from quandl) (1.23.5)\n",
      "Requirement already satisfied: requests>=2.7.0 in d:\\users\\nattapol\\anaconda3\\envs\\ml101\\lib\\site-packages (from quandl) (2.28.1)\n",
      "Collecting more-itertools\n",
      "  Downloading more_itertools-9.0.0-py3-none-any.whl (52 kB)\n",
      "     ---------------------------------------- 52.8/52.8 kB 2.7 MB/s eta 0:00:00\n",
      "Requirement already satisfied: python-dateutil in d:\\users\\nattapol\\anaconda3\\envs\\ml101\\lib\\site-packages (from quandl) (2.8.2)\n",
      "Collecting inflection>=0.3.1\n",
      "  Downloading inflection-0.5.1-py2.py3-none-any.whl (9.5 kB)\n",
      "Requirement already satisfied: pandas>=0.14 in d:\\users\\nattapol\\anaconda3\\envs\\ml101\\lib\\site-packages (from quandl) (1.5.2)\n",
      "Requirement already satisfied: pytz>=2020.1 in d:\\users\\nattapol\\anaconda3\\envs\\ml101\\lib\\site-packages (from pandas>=0.14->quandl) (2022.7)\n",
      "Requirement already satisfied: idna<4,>=2.5 in d:\\users\\nattapol\\anaconda3\\envs\\ml101\\lib\\site-packages (from requests>=2.7.0->quandl) (3.4)\n",
      "Requirement already satisfied: urllib3<1.27,>=1.21.1 in d:\\users\\nattapol\\anaconda3\\envs\\ml101\\lib\\site-packages (from requests>=2.7.0->quandl) (1.26.14)\n",
      "Requirement already satisfied: certifi>=2017.4.17 in d:\\users\\nattapol\\anaconda3\\envs\\ml101\\lib\\site-packages (from requests>=2.7.0->quandl) (2022.12.7)\n",
      "Requirement already satisfied: charset-normalizer<3,>=2 in d:\\users\\nattapol\\anaconda3\\envs\\ml101\\lib\\site-packages (from requests>=2.7.0->quandl) (2.0.4)\n",
      "Installing collected packages: more-itertools, inflection, quandl\n",
      "Successfully installed inflection-0.5.1 more-itertools-9.0.0 quandl-3.7.0\n"
     ]
    }
   ],
   "source": [
    "!pip install quandl"
   ]
  },
  {
   "cell_type": "code",
   "execution_count": 6,
   "id": "a4ccf17e",
   "metadata": {},
   "outputs": [
    {
     "name": "stdout",
     "output_type": "stream",
     "text": [
      "Collecting alpha-vantage\n",
      "  Using cached alpha_vantage-2.3.1-py3-none-any.whl (31 kB)\n",
      "Requirement already satisfied: requests in d:\\users\\nattapol\\anaconda3\\envs\\ml101\\lib\\site-packages (from alpha-vantage) (2.28.1)\n",
      "Requirement already satisfied: aiohttp in d:\\users\\nattapol\\anaconda3\\envs\\ml101\\lib\\site-packages (from alpha-vantage) (3.8.3)\n",
      "Requirement already satisfied: charset-normalizer<3.0,>=2.0 in d:\\users\\nattapol\\anaconda3\\envs\\ml101\\lib\\site-packages (from aiohttp->alpha-vantage) (2.0.4)\n",
      "Requirement already satisfied: async-timeout<5.0,>=4.0.0a3 in d:\\users\\nattapol\\anaconda3\\envs\\ml101\\lib\\site-packages (from aiohttp->alpha-vantage) (4.0.2)\n",
      "Requirement already satisfied: yarl<2.0,>=1.0 in d:\\users\\nattapol\\anaconda3\\envs\\ml101\\lib\\site-packages (from aiohttp->alpha-vantage) (1.8.1)\n",
      "Requirement already satisfied: aiosignal>=1.1.2 in d:\\users\\nattapol\\anaconda3\\envs\\ml101\\lib\\site-packages (from aiohttp->alpha-vantage) (1.2.0)\n",
      "Requirement already satisfied: frozenlist>=1.1.1 in d:\\users\\nattapol\\anaconda3\\envs\\ml101\\lib\\site-packages (from aiohttp->alpha-vantage) (1.3.3)\n",
      "Requirement already satisfied: attrs>=17.3.0 in d:\\users\\nattapol\\anaconda3\\envs\\ml101\\lib\\site-packages (from aiohttp->alpha-vantage) (22.1.0)\n",
      "Requirement already satisfied: multidict<7.0,>=4.5 in d:\\users\\nattapol\\anaconda3\\envs\\ml101\\lib\\site-packages (from aiohttp->alpha-vantage) (6.0.2)\n",
      "Requirement already satisfied: idna<4,>=2.5 in d:\\users\\nattapol\\anaconda3\\envs\\ml101\\lib\\site-packages (from requests->alpha-vantage) (3.4)\n",
      "Requirement already satisfied: urllib3<1.27,>=1.21.1 in d:\\users\\nattapol\\anaconda3\\envs\\ml101\\lib\\site-packages (from requests->alpha-vantage) (1.26.14)\n",
      "Requirement already satisfied: certifi>=2017.4.17 in d:\\users\\nattapol\\anaconda3\\envs\\ml101\\lib\\site-packages (from requests->alpha-vantage) (2022.12.7)\n",
      "Installing collected packages: alpha-vantage\n",
      "Successfully installed alpha-vantage-2.3.1\n"
     ]
    }
   ],
   "source": [
    "!pip install alpha-vantage"
   ]
  },
  {
   "cell_type": "code",
   "execution_count": 1,
   "id": "1d835a80",
   "metadata": {},
   "outputs": [
    {
     "name": "stdout",
     "output_type": "stream",
     "text": [
      "Collecting mplfinance\n",
      "  Downloading mplfinance-0.12.9b7-py3-none-any.whl (73 kB)\n",
      "     ---------------------------------------- 73.1/73.1 kB 2.0 MB/s eta 0:00:00\n",
      "Requirement already satisfied: pandas in d:\\users\\nattapol\\anaconda3\\envs\\ml101\\lib\\site-packages (from mplfinance) (1.5.2)\n",
      "Requirement already satisfied: matplotlib in d:\\users\\nattapol\\anaconda3\\envs\\ml101\\lib\\site-packages (from mplfinance) (3.6.2)\n",
      "Requirement already satisfied: cycler>=0.10 in d:\\users\\nattapol\\anaconda3\\envs\\ml101\\lib\\site-packages (from matplotlib->mplfinance) (0.11.0)\n",
      "Requirement already satisfied: pyparsing>=2.2.1 in d:\\users\\nattapol\\anaconda3\\envs\\ml101\\lib\\site-packages (from matplotlib->mplfinance) (3.0.9)\n",
      "Requirement already satisfied: packaging>=20.0 in d:\\users\\nattapol\\anaconda3\\envs\\ml101\\lib\\site-packages (from matplotlib->mplfinance) (22.0)\n",
      "Requirement already satisfied: contourpy>=1.0.1 in d:\\users\\nattapol\\anaconda3\\envs\\ml101\\lib\\site-packages (from matplotlib->mplfinance) (1.0.5)\n",
      "Requirement already satisfied: python-dateutil>=2.7 in d:\\users\\nattapol\\anaconda3\\envs\\ml101\\lib\\site-packages (from matplotlib->mplfinance) (2.8.2)\n",
      "Requirement already satisfied: pillow>=6.2.0 in d:\\users\\nattapol\\anaconda3\\envs\\ml101\\lib\\site-packages (from matplotlib->mplfinance) (9.3.0)\n",
      "Requirement already satisfied: numpy>=1.19 in d:\\users\\nattapol\\anaconda3\\envs\\ml101\\lib\\site-packages (from matplotlib->mplfinance) (1.23.5)\n",
      "Requirement already satisfied: kiwisolver>=1.0.1 in d:\\users\\nattapol\\anaconda3\\envs\\ml101\\lib\\site-packages (from matplotlib->mplfinance) (1.4.4)\n",
      "Requirement already satisfied: fonttools>=4.22.0 in d:\\users\\nattapol\\anaconda3\\envs\\ml101\\lib\\site-packages (from matplotlib->mplfinance) (4.25.0)\n",
      "Requirement already satisfied: pytz>=2020.1 in d:\\users\\nattapol\\anaconda3\\envs\\ml101\\lib\\site-packages (from pandas->mplfinance) (2022.7)\n",
      "Requirement already satisfied: six>=1.5 in d:\\users\\nattapol\\anaconda3\\envs\\ml101\\lib\\site-packages (from python-dateutil>=2.7->matplotlib->mplfinance) (1.16.0)\n",
      "Installing collected packages: mplfinance\n",
      "Successfully installed mplfinance-0.12.9b7\n"
     ]
    }
   ],
   "source": [
    "!pip install mplfinance"
   ]
  },
  {
   "cell_type": "code",
   "execution_count": 3,
   "id": "412b5d42",
   "metadata": {},
   "outputs": [
    {
     "name": "stdout",
     "output_type": "stream",
     "text": [
      "Collecting pandas_ta\n",
      "  Using cached pandas_ta-0.3.14b.tar.gz (115 kB)\n",
      "  Preparing metadata (setup.py): started\n",
      "  Preparing metadata (setup.py): finished with status 'done'\n",
      "Requirement already satisfied: pandas in d:\\users\\nattapol\\anaconda3\\envs\\ml101\\lib\\site-packages (from pandas_ta) (1.5.2)\n",
      "Requirement already satisfied: pytz>=2020.1 in d:\\users\\nattapol\\anaconda3\\envs\\ml101\\lib\\site-packages (from pandas->pandas_ta) (2022.7)\n",
      "Requirement already satisfied: numpy>=1.20.3 in d:\\users\\nattapol\\anaconda3\\envs\\ml101\\lib\\site-packages (from pandas->pandas_ta) (1.23.5)\n",
      "Requirement already satisfied: python-dateutil>=2.8.1 in d:\\users\\nattapol\\anaconda3\\envs\\ml101\\lib\\site-packages (from pandas->pandas_ta) (2.8.2)\n",
      "Requirement already satisfied: six>=1.5 in d:\\users\\nattapol\\anaconda3\\envs\\ml101\\lib\\site-packages (from python-dateutil>=2.8.1->pandas->pandas_ta) (1.16.0)\n",
      "Building wheels for collected packages: pandas_ta\n",
      "  Building wheel for pandas_ta (setup.py): started\n",
      "  Building wheel for pandas_ta (setup.py): finished with status 'done'\n",
      "  Created wheel for pandas_ta: filename=pandas_ta-0.3.14b0-py3-none-any.whl size=218907 sha256=3ee2be66785d6a6c7d6d84a22d350665406f8cc39c6a87c82b3165998556cb71\n",
      "  Stored in directory: c:\\users\\nattapol\\appdata\\local\\pip\\cache\\wheels\\66\\9b\\83\\14763de5df7e041658ac4f2411c9e7aa4ee71807f9e39ff5da\n",
      "Successfully built pandas_ta\n",
      "Installing collected packages: pandas_ta\n",
      "Successfully installed pandas_ta-0.3.14b0\n"
     ]
    }
   ],
   "source": [
    "!pip install pandas_ta"
   ]
  },
  {
   "cell_type": "code",
   "execution_count": 1,
   "id": "72426b83",
   "metadata": {},
   "outputs": [
    {
     "name": "stdout",
     "output_type": "stream",
     "text": [
      "Collecting xlrd\n",
      "  Downloading xlrd-2.0.1-py2.py3-none-any.whl (96 kB)\n",
      "     -------------------------------------- 96.5/96.5 kB 145.5 kB/s eta 0:00:00\n",
      "Installing collected packages: xlrd\n",
      "Successfully installed xlrd-2.0.1\n"
     ]
    }
   ],
   "source": [
    "!pip install xlrd"
   ]
  },
  {
   "cell_type": "code",
   "execution_count": 2,
   "id": "433a903c",
   "metadata": {},
   "outputs": [
    {
     "name": "stdout",
     "output_type": "stream",
     "text": [
      "Requirement already satisfied: openpyxl in d:\\users\\nattapol\\anaconda3\\envs\\ml101\\lib\\site-packages (3.0.10)\n",
      "Requirement already satisfied: et_xmlfile in d:\\users\\nattapol\\anaconda3\\envs\\ml101\\lib\\site-packages (from openpyxl) (1.1.0)\n"
     ]
    }
   ],
   "source": [
    "!pip install openpyxl"
   ]
  },
  {
   "cell_type": "code",
   "execution_count": null,
   "id": "4c01808f",
   "metadata": {},
   "outputs": [],
   "source": []
  }
 ],
 "metadata": {
  "kernelspec": {
   "display_name": "Python 3 (ipykernel)",
   "language": "python",
   "name": "python3"
  },
  "language_info": {
   "codemirror_mode": {
    "name": "ipython",
    "version": 3
   },
   "file_extension": ".py",
   "mimetype": "text/x-python",
   "name": "python",
   "nbconvert_exporter": "python",
   "pygments_lexer": "ipython3",
   "version": "3.8.16"
  }
 },
 "nbformat": 4,
 "nbformat_minor": 5
}
