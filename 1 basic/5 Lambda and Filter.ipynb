{
 "cells": [
  {
   "cell_type": "code",
   "execution_count": 9,
   "id": "d2cebb3f",
   "metadata": {},
   "outputs": [],
   "source": [
    "#lambda is 1 time use fuction"
   ]
  },
  {
   "cell_type": "markdown",
   "id": "d90abe49",
   "metadata": {},
   "source": [
    "lambda and filter use the same concept as if else in left,right side of List comprehension \n",
    "\n",
    "lambda x : (result of if ) if condition1 else (result of else) >> left if concept in List comp\n",
    "\n",
    "lambda x : condition2      >> Right if concecpt in List comp\n",
    "\n",
    "both left and right if concept is combination of map and filter\n",
    "map(lambda x: a if condition1 else b , filter(lambda x:condition2,list1))"
   ]
  },
  {
   "cell_type": "code",
   "execution_count": 1,
   "id": "a00996b7",
   "metadata": {},
   "outputs": [],
   "source": [
    "a = [1,2,3]"
   ]
  },
  {
   "cell_type": "code",
   "execution_count": 4,
   "id": "8b73a299",
   "metadata": {},
   "outputs": [
    {
     "data": {
      "text/plain": [
       "[5, 10, 15]"
      ]
     },
     "execution_count": 4,
     "metadata": {},
     "output_type": "execute_result"
    }
   ],
   "source": [
    "#map syntax\n",
    "#map(function,list)\n",
    "list(map(lambda i:i*5,a))"
   ]
  },
  {
   "cell_type": "code",
   "execution_count": 5,
   "id": "2f2f0037",
   "metadata": {},
   "outputs": [
    {
     "data": {
      "text/plain": [
       "[1, 2, 15]"
      ]
     },
     "execution_count": 5,
     "metadata": {},
     "output_type": "execute_result"
    }
   ],
   "source": [
    "#left else concept\n",
    "list(map(lambda i:i*5 if i==3 else i,a))"
   ]
  },
  {
   "cell_type": "code",
   "execution_count": 10,
   "id": "dfa666ef",
   "metadata": {},
   "outputs": [
    {
     "data": {
      "text/plain": [
       "[2, 15]"
      ]
     },
     "execution_count": 10,
     "metadata": {},
     "output_type": "execute_result"
    }
   ],
   "source": [
    "#add filter\n",
    "#what the filter is doing is replace the List (but just pick some member of list)  \n",
    "list(map(lambda i:i*5 if i==3 else i, filter(lambda i: i > 1,a)))"
   ]
  },
  {
   "cell_type": "code",
   "execution_count": null,
   "id": "34c4c3e3",
   "metadata": {},
   "outputs": [],
   "source": []
  },
  {
   "cell_type": "code",
   "execution_count": 1,
   "id": "57fcce62",
   "metadata": {},
   "outputs": [],
   "source": [
    "import pandas as pd\n",
    "\n",
    "data = {'ID' : ['A', 'B', 'C', 'D'], 'Math':[91, 75, 62, 80], 'Science':[66, 70, 75, 77]}\n",
    "df = pd.DataFrame(data)"
   ]
  },
  {
   "cell_type": "code",
   "execution_count": 2,
   "id": "5989e78c",
   "metadata": {},
   "outputs": [
    {
     "data": {
      "text/html": [
       "<div>\n",
       "<style scoped>\n",
       "    .dataframe tbody tr th:only-of-type {\n",
       "        vertical-align: middle;\n",
       "    }\n",
       "\n",
       "    .dataframe tbody tr th {\n",
       "        vertical-align: top;\n",
       "    }\n",
       "\n",
       "    .dataframe thead th {\n",
       "        text-align: right;\n",
       "    }\n",
       "</style>\n",
       "<table border=\"1\" class=\"dataframe\">\n",
       "  <thead>\n",
       "    <tr style=\"text-align: right;\">\n",
       "      <th></th>\n",
       "      <th>ID</th>\n",
       "      <th>Math</th>\n",
       "      <th>Science</th>\n",
       "    </tr>\n",
       "  </thead>\n",
       "  <tbody>\n",
       "    <tr>\n",
       "      <th>0</th>\n",
       "      <td>A</td>\n",
       "      <td>91</td>\n",
       "      <td>66</td>\n",
       "    </tr>\n",
       "    <tr>\n",
       "      <th>1</th>\n",
       "      <td>B</td>\n",
       "      <td>75</td>\n",
       "      <td>70</td>\n",
       "    </tr>\n",
       "    <tr>\n",
       "      <th>2</th>\n",
       "      <td>C</td>\n",
       "      <td>62</td>\n",
       "      <td>75</td>\n",
       "    </tr>\n",
       "    <tr>\n",
       "      <th>3</th>\n",
       "      <td>D</td>\n",
       "      <td>80</td>\n",
       "      <td>77</td>\n",
       "    </tr>\n",
       "  </tbody>\n",
       "</table>\n",
       "</div>"
      ],
      "text/plain": [
       "  ID  Math  Science\n",
       "0  A    91       66\n",
       "1  B    75       70\n",
       "2  C    62       75\n",
       "3  D    80       77"
      ]
     },
     "execution_count": 2,
     "metadata": {},
     "output_type": "execute_result"
    }
   ],
   "source": [
    "df"
   ]
  },
  {
   "cell_type": "code",
   "execution_count": 4,
   "id": "a27f387a",
   "metadata": {},
   "outputs": [
    {
     "data": {
      "text/plain": [
       "0    91\n",
       "1    75\n",
       "2    62\n",
       "3    80\n",
       "Name: Math, dtype: int64"
      ]
     },
     "execution_count": 4,
     "metadata": {},
     "output_type": "execute_result"
    }
   ],
   "source": [
    "df.Math"
   ]
  },
  {
   "cell_type": "code",
   "execution_count": 6,
   "id": "e23a5931",
   "metadata": {},
   "outputs": [
    {
     "data": {
      "text/plain": [
       "0    pass\n",
       "1    fail\n",
       "2    fail\n",
       "3    pass\n",
       "dtype: object"
      ]
     },
     "execution_count": 6,
     "metadata": {},
     "output_type": "execute_result"
    }
   ],
   "source": [
    "#apply ใช้กับ pandas จำเป็นต้องระบุ axis\n",
    "a = df.apply(lambda x: 'pass' if x.Math >= 80 else 'fail',axis = 'columns' )\n",
    "a"
   ]
  },
  {
   "cell_type": "code",
   "execution_count": 10,
   "id": "c471a452",
   "metadata": {},
   "outputs": [
    {
     "data": {
      "text/plain": [
       "0    fail\n",
       "1    fail\n",
       "2    fail\n",
       "3    pass\n",
       "dtype: object"
      ]
     },
     "execution_count": 10,
     "metadata": {},
     "output_type": "execute_result"
    }
   ],
   "source": [
    "b = df.apply(lambda x: 'pass' if (x.Math >= 80 and x.Science >= 70)  else 'fail',axis = 'columns')\n",
    "b"
   ]
  },
  {
   "cell_type": "code",
   "execution_count": 11,
   "id": "d38858ec",
   "metadata": {},
   "outputs": [
    {
     "data": {
      "text/html": [
       "<div>\n",
       "<style scoped>\n",
       "    .dataframe tbody tr th:only-of-type {\n",
       "        vertical-align: middle;\n",
       "    }\n",
       "\n",
       "    .dataframe tbody tr th {\n",
       "        vertical-align: top;\n",
       "    }\n",
       "\n",
       "    .dataframe thead th {\n",
       "        text-align: right;\n",
       "    }\n",
       "</style>\n",
       "<table border=\"1\" class=\"dataframe\">\n",
       "  <thead>\n",
       "    <tr style=\"text-align: right;\">\n",
       "      <th></th>\n",
       "      <th>ID</th>\n",
       "      <th>Math</th>\n",
       "      <th>Science</th>\n",
       "      <th>result test</th>\n",
       "    </tr>\n",
       "  </thead>\n",
       "  <tbody>\n",
       "    <tr>\n",
       "      <th>0</th>\n",
       "      <td>A</td>\n",
       "      <td>91</td>\n",
       "      <td>66</td>\n",
       "      <td>fail</td>\n",
       "    </tr>\n",
       "    <tr>\n",
       "      <th>1</th>\n",
       "      <td>B</td>\n",
       "      <td>75</td>\n",
       "      <td>70</td>\n",
       "      <td>fail</td>\n",
       "    </tr>\n",
       "    <tr>\n",
       "      <th>2</th>\n",
       "      <td>C</td>\n",
       "      <td>62</td>\n",
       "      <td>75</td>\n",
       "      <td>fail</td>\n",
       "    </tr>\n",
       "    <tr>\n",
       "      <th>3</th>\n",
       "      <td>D</td>\n",
       "      <td>80</td>\n",
       "      <td>77</td>\n",
       "      <td>pass</td>\n",
       "    </tr>\n",
       "  </tbody>\n",
       "</table>\n",
       "</div>"
      ],
      "text/plain": [
       "  ID  Math  Science result test\n",
       "0  A    91       66        fail\n",
       "1  B    75       70        fail\n",
       "2  C    62       75        fail\n",
       "3  D    80       77        pass"
      ]
     },
     "execution_count": 11,
     "metadata": {},
     "output_type": "execute_result"
    }
   ],
   "source": [
    "df['result test'] = df.apply(lambda x: 'pass' if (x.Math >= 80 and x.Science >= 70)  else 'fail',axis = 'columns')\n",
    "df"
   ]
  },
  {
   "cell_type": "code",
   "execution_count": null,
   "id": "5108c88a",
   "metadata": {},
   "outputs": [],
   "source": []
  }
 ],
 "metadata": {
  "kernelspec": {
   "display_name": "Python 3",
   "language": "python",
   "name": "python3"
  },
  "language_info": {
   "codemirror_mode": {
    "name": "ipython",
    "version": 3
   },
   "file_extension": ".py",
   "mimetype": "text/x-python",
   "name": "python",
   "nbconvert_exporter": "python",
   "pygments_lexer": "ipython3",
   "version": "3.7.10"
  }
 },
 "nbformat": 4,
 "nbformat_minor": 5
}
