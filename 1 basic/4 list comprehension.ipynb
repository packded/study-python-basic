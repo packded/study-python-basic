{
 "cells": [
  {
   "cell_type": "code",
   "execution_count": null,
   "id": "7ee0aa93",
   "metadata": {},
   "outputs": [],
   "source": []
  },
  {
   "cell_type": "code",
   "execution_count": 5,
   "id": "2b8a9585",
   "metadata": {},
   "outputs": [],
   "source": [
    "#using list comp with nums\n",
    "nums = [1,2,3,4,5,6]\n",
    "results = []\n",
    "for i in nums:\n",
    "    i = i*2\n",
    "    results.append(i)\n"
   ]
  },
  {
   "cell_type": "code",
   "execution_count": 6,
   "id": "9cd91990",
   "metadata": {},
   "outputs": [
    {
     "data": {
      "text/plain": [
       "[2, 4, 6, 8, 10, 12]"
      ]
     },
     "execution_count": 6,
     "metadata": {},
     "output_type": "execute_result"
    }
   ],
   "source": [
    "results"
   ]
  },
  {
   "cell_type": "code",
   "execution_count": 9,
   "id": "54a43282",
   "metadata": {},
   "outputs": [
    {
     "data": {
      "text/plain": [
       "[2, 4, 6, 8, 10, 12]"
      ]
     },
     "execution_count": 9,
     "metadata": {},
     "output_type": "execute_result"
    }
   ],
   "source": [
    "results2 = [i*2 for i in nums]\n",
    "results2"
   ]
  },
  {
   "cell_type": "raw",
   "id": "e20dc164",
   "metadata": {},
   "source": []
  },
  {
   "cell_type": "code",
   "execution_count": 10,
   "id": "f27652cb",
   "metadata": {},
   "outputs": [
    {
     "data": {
      "text/plain": [
       "['INTRO', 'TO', 'LIST', 'COMP']"
      ]
     },
     "execution_count": 10,
     "metadata": {},
     "output_type": "execute_result"
    }
   ],
   "source": [
    "#using list comp with strings\n",
    "strings = ['intro','to','list','comp']\n",
    "results3 = []\n",
    "for i in strings:\n",
    "    i = i.upper()\n",
    "    results3.append(i)\n",
    "    \n",
    "results3"
   ]
  },
  {
   "cell_type": "code",
   "execution_count": 13,
   "id": "2bf2533b",
   "metadata": {},
   "outputs": [
    {
     "data": {
      "text/plain": [
       "['INTRO', 'TO', 'LIST', 'COMP']"
      ]
     },
     "execution_count": 13,
     "metadata": {},
     "output_type": "execute_result"
    }
   ],
   "source": [
    "results4 = [i.upper() for i in strings]\n",
    "results4"
   ]
  },
  {
   "cell_type": "code",
   "execution_count": 14,
   "id": "176ca34d",
   "metadata": {},
   "outputs": [],
   "source": [
    "#Key freature\n",
    "#[expression for i in iterable]\n",
    "#[   i*2     for i in my_list ]"
   ]
  },
  {
   "cell_type": "code",
   "execution_count": 15,
   "id": "266ff468",
   "metadata": {},
   "outputs": [
    {
     "data": {
      "text/plain": [
       "[5, 10, 15, 20, 25, 30]"
      ]
     },
     "execution_count": 15,
     "metadata": {},
     "output_type": "execute_result"
    }
   ],
   "source": [
    "#using list comp with fuction\n",
    "def timefive(num):\n",
    "    return num*5\n",
    "\n",
    "results5 = []\n",
    "for i in nums:\n",
    "    i = timefive(i)\n",
    "    results5.append(i)\n",
    "    \n",
    "results5"
   ]
  },
  {
   "cell_type": "code",
   "execution_count": 16,
   "id": "aa48f530",
   "metadata": {},
   "outputs": [
    {
     "data": {
      "text/plain": [
       "[5, 10, 15, 20, 25, 30]"
      ]
     },
     "execution_count": 16,
     "metadata": {},
     "output_type": "execute_result"
    }
   ],
   "source": [
    "[timefive(i) for i in nums]"
   ]
  },
  {
   "cell_type": "code",
   "execution_count": 19,
   "id": "b158ae42",
   "metadata": {},
   "outputs": [
    {
     "data": {
      "text/plain": [
       "[20, 25, 30]"
      ]
     },
     "execution_count": 19,
     "metadata": {},
     "output_type": "execute_result"
    }
   ],
   "source": [
    "#apply if  in list comp\n",
    "results6 = [timefive(i) for i in nums if i > 3]\n",
    "results6"
   ]
  },
  {
   "cell_type": "code",
   "execution_count": 20,
   "id": "0b54d965",
   "metadata": {},
   "outputs": [
    {
     "data": {
      "text/plain": [
       "['John', 'Matt']"
      ]
     },
     "execution_count": 20,
     "metadata": {},
     "output_type": "execute_result"
    }
   ],
   "source": [
    "#using list comp with list of dict\n",
    "dicts = [{'name':'John'},{'name':'Matt'}]\n",
    "results7 = []\n",
    "for i in dicts:\n",
    "    results7.append(i['name'])\n",
    "    \n",
    "results7"
   ]
  },
  {
   "cell_type": "code",
   "execution_count": 23,
   "id": "596e1545",
   "metadata": {},
   "outputs": [
    {
     "data": {
      "text/plain": [
       "['John python', 'Matt python']"
      ]
     },
     "execution_count": 23,
     "metadata": {},
     "output_type": "execute_result"
    }
   ],
   "source": [
    "[i['name'] + ' python' for i in dicts]"
   ]
  },
  {
   "cell_type": "code",
   "execution_count": 25,
   "id": "0370848d",
   "metadata": {},
   "outputs": [
    {
     "data": {
      "text/plain": [
       "[10, 121, 12, 169, 14, 225, 16, 289, 18, 361, 20]"
      ]
     },
     "execution_count": 25,
     "metadata": {},
     "output_type": "execute_result"
    }
   ],
   "source": [
    "#using if else  in left side of list comp\n",
    "# the amount of i still same \n",
    "# result of if  on the left of if   \n",
    "# result of else in the right of else\n",
    "# it need to has else  if there is the if in left side.\n",
    "mylist = range(10,21)\n",
    "results8 = [i**2 if i%2==1 else i  for i in mylist]\n",
    "results8"
   ]
  },
  {
   "cell_type": "code",
   "execution_count": 30,
   "id": "a69ef732",
   "metadata": {},
   "outputs": [
    {
     "data": {
      "text/plain": [
       "[100, 144, 196, 256, 324, 400]"
      ]
     },
     "execution_count": 30,
     "metadata": {},
     "output_type": "execute_result"
    }
   ],
   "source": [
    "#using if else in right side of list comp\n",
    "#the amount of i decrease (filter)\n",
    "#we can have the else of the right of for loop\n",
    "mylist = range(10,21)\n",
    "results8 = [i**2 for i in mylist if i%2==0]\n",
    "results8"
   ]
  },
  {
   "cell_type": "code",
   "execution_count": 37,
   "id": "81b32623",
   "metadata": {},
   "outputs": [],
   "source": [
    "#what if have if else in left and righht side ?\n",
    "left =[i**2 if i%2==1 else i  for i in mylist ]\n",
    "right=[i**2 for i in mylist if i%2==0]\n",
    "both =[i**2 if i%2==1 else i  for i in mylist if i%2==0 ]"
   ]
  },
  {
   "cell_type": "code",
   "execution_count": 38,
   "id": "ab3aac45",
   "metadata": {},
   "outputs": [
    {
     "data": {
      "text/plain": [
       "[10, 121, 12, 169, 14, 225, 16, 289, 18, 361, 20]"
      ]
     },
     "execution_count": 38,
     "metadata": {},
     "output_type": "execute_result"
    }
   ],
   "source": [
    "left"
   ]
  },
  {
   "cell_type": "code",
   "execution_count": 39,
   "id": "c08e75e9",
   "metadata": {},
   "outputs": [
    {
     "data": {
      "text/plain": [
       "[100, 144, 196, 256, 324, 400]"
      ]
     },
     "execution_count": 39,
     "metadata": {},
     "output_type": "execute_result"
    }
   ],
   "source": [
    "right"
   ]
  },
  {
   "cell_type": "code",
   "execution_count": 40,
   "id": "0d482302",
   "metadata": {},
   "outputs": [
    {
     "data": {
      "text/plain": [
       "[10, 12, 14, 16, 18, 20]"
      ]
     },
     "execution_count": 40,
     "metadata": {},
     "output_type": "execute_result"
    }
   ],
   "source": [
    "#if has both side the amont of i still decrease\n",
    "both"
   ]
  },
  {
   "cell_type": "code",
   "execution_count": null,
   "id": "a1d13896",
   "metadata": {},
   "outputs": [],
   "source": []
  }
 ],
 "metadata": {
  "kernelspec": {
   "display_name": "Python 3",
   "language": "python",
   "name": "python3"
  },
  "language_info": {
   "codemirror_mode": {
    "name": "ipython",
    "version": 3
   },
   "file_extension": ".py",
   "mimetype": "text/x-python",
   "name": "python",
   "nbconvert_exporter": "python",
   "pygments_lexer": "ipython3",
   "version": "3.7.10"
  }
 },
 "nbformat": 4,
 "nbformat_minor": 5
}
