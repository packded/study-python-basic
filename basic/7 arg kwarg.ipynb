{
 "cells": [
  {
   "cell_type": "markdown",
   "id": "122e8491",
   "metadata": {},
   "source": [
    "*arg\n",
    "เป็นการทำให้ function รับค่าหลายตัวแปรได้โดยไม่ต้องมานั้งพิมพ์ทีละตัว \n",
    "โดยจะรับค่าตัวแปรมาในรูป tuple"
   ]
  },
  {
   "cell_type": "code",
   "execution_count": 2,
   "id": "25d06c5b",
   "metadata": {},
   "outputs": [
    {
     "data": {
      "text/plain": [
       "10"
      ]
     },
     "execution_count": 2,
     "metadata": {},
     "output_type": "execute_result"
    }
   ],
   "source": [
    "#ธรรมดา\n",
    "def sum_var(a):\n",
    "    results = sum(a)\n",
    "    return results\n",
    "\n",
    "sum_var([1,2,3,4])\n",
    "#จะเห็นว่า a ที่เป็น list มาต้องมานั้งพิมพ์ทีละตัว"
   ]
  },
  {
   "cell_type": "code",
   "execution_count": 4,
   "id": "c5e68fff",
   "metadata": {},
   "outputs": [
    {
     "data": {
      "text/plain": [
       "10"
      ]
     },
     "execution_count": 4,
     "metadata": {},
     "output_type": "execute_result"
    }
   ],
   "source": [
    "#ใช้ *arg\n",
    "def sum_arg(*b):\n",
    "    results2 = sum(b)\n",
    "    return results2\n",
    "\n",
    "sum_arg(1,2,3,4,)"
   ]
  },
  {
   "cell_type": "code",
   "execution_count": 6,
   "id": "e6e6d940",
   "metadata": {},
   "outputs": [
    {
     "data": {
      "text/plain": [
       "55"
      ]
     },
     "execution_count": 6,
     "metadata": {},
     "output_type": "execute_result"
    }
   ],
   "source": [
    "sum_arg(1,2,3,4,5,6,7,8,9,10)"
   ]
  },
  {
   "cell_type": "code",
   "execution_count": null,
   "id": "470f6ab3",
   "metadata": {},
   "outputs": [],
   "source": []
  },
  {
   "cell_type": "markdown",
   "id": "5a9b8379",
   "metadata": {},
   "source": [
    "**kwarg\n",
    "เป็นfunction ที่ทำให้หรับข้อมูลได้หลายตัวเหมือนกันแต่ต่างกันตรงจะรับมาเป็น dict"
   ]
  },
  {
   "cell_type": "code",
   "execution_count": 9,
   "id": "601f7e10",
   "metadata": {},
   "outputs": [
    {
     "name": "stdout",
     "output_type": "stream",
     "text": [
      "math is pass\n",
      "english is pass\n"
     ]
    }
   ],
   "source": [
    "#ธรรมดา \n",
    "def check_scores(math,physics,english):\n",
    "    if math is not None and math >=50: #ที่มี not None กันว่าไม่ใส่แล้วจะ error\n",
    "        print('math is pass')\n",
    "    if physics is not None and physics >=50: #ที่มี not None กันว่าไม่ใส่แล้วจะ error\n",
    "        print('physics is pass')\n",
    "    if english is not None and english >=50: #ที่มี not None กันว่าไม่ใส่แล้วจะ error\n",
    "        print('english is pass')\n",
    "    \n",
    "check_scores(math=50,physics=30,english=65)"
   ]
  },
  {
   "cell_type": "code",
   "execution_count": 18,
   "id": "b1950f91",
   "metadata": {},
   "outputs": [
    {
     "name": "stdout",
     "output_type": "stream",
     "text": [
      "math is pass\n",
      "english is pass\n"
     ]
    }
   ],
   "source": [
    "#**kwarg\n",
    "def check_scores2(**subjects):\n",
    "    math = subjects.get('math') # .get คือ เรียก value ของ dict ออกมาถ้าไม่มีจะเป็น None\n",
    "    physics = subjects.get('physics')\n",
    "    english = subjects.get('english')\n",
    "    if math  >=50: #ที่มี not None กันว่าไม่ใส่แล้วจะ error\n",
    "        print('math is pass')\n",
    "    if physics >=50: #ที่มี not None กันว่าไม่ใส่แล้วจะ error\n",
    "        print('physics is pass')\n",
    "    if english >=50: #ที่มี not None กันว่าไม่ใส่แล้วจะ error\n",
    "        print('english is pass')\n",
    "\n",
    "    \n",
    "check_scores2(math=50,physics=30,english=65,thai=50)"
   ]
  },
  {
   "cell_type": "code",
   "execution_count": null,
   "id": "78cabf05",
   "metadata": {},
   "outputs": [],
   "source": []
  }
 ],
 "metadata": {
  "kernelspec": {
   "display_name": "Python 3",
   "language": "python",
   "name": "python3"
  },
  "language_info": {
   "codemirror_mode": {
    "name": "ipython",
    "version": 3
   },
   "file_extension": ".py",
   "mimetype": "text/x-python",
   "name": "python",
   "nbconvert_exporter": "python",
   "pygments_lexer": "ipython3",
   "version": "3.7.10"
  }
 },
 "nbformat": 4,
 "nbformat_minor": 5
}
