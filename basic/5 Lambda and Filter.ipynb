{
 "cells": [
  {
   "cell_type": "code",
   "execution_count": 9,
   "id": "d2cebb3f",
   "metadata": {},
   "outputs": [],
   "source": [
    "#lambda is 1 time use fuction"
   ]
  },
  {
   "cell_type": "markdown",
   "id": "d90abe49",
   "metadata": {},
   "source": [
    "lambda and filter use the same concept as if else in left,right side of List comprehension \n",
    "\n",
    "lambda x : (result of if ) if condition1 else (result of else) >> left if concept in List comp\n",
    "\n",
    "lambda x : condition2      >> Right if concecpt in List comp\n",
    "\n",
    "both left and right if concept is combination of map and filter\n",
    "map(lambda x: a if condition1 else b , filter(lambda x:condition2,list1))"
   ]
  },
  {
   "cell_type": "code",
   "execution_count": 1,
   "id": "a00996b7",
   "metadata": {},
   "outputs": [],
   "source": [
    "a = [1,2,3]"
   ]
  },
  {
   "cell_type": "code",
   "execution_count": 4,
   "id": "8b73a299",
   "metadata": {},
   "outputs": [
    {
     "data": {
      "text/plain": [
       "[5, 10, 15]"
      ]
     },
     "execution_count": 4,
     "metadata": {},
     "output_type": "execute_result"
    }
   ],
   "source": [
    "#map syntax\n",
    "#map(function,list)\n",
    "list(map(lambda i:i*5,a))"
   ]
  },
  {
   "cell_type": "code",
   "execution_count": 5,
   "id": "2f2f0037",
   "metadata": {},
   "outputs": [
    {
     "data": {
      "text/plain": [
       "[1, 2, 15]"
      ]
     },
     "execution_count": 5,
     "metadata": {},
     "output_type": "execute_result"
    }
   ],
   "source": [
    "#left else concept\n",
    "list(map(lambda i:i*5 if i==3 else i,a))"
   ]
  },
  {
   "cell_type": "code",
   "execution_count": 10,
   "id": "dfa666ef",
   "metadata": {},
   "outputs": [
    {
     "data": {
      "text/plain": [
       "[2, 15]"
      ]
     },
     "execution_count": 10,
     "metadata": {},
     "output_type": "execute_result"
    }
   ],
   "source": [
    "#add filter\n",
    "#what the filter is doing is replace the List (but just pick some member of list)  \n",
    "list(map(lambda i:i*5 if i==3 else i, filter(lambda i: i > 1,a)))"
   ]
  },
  {
   "cell_type": "code",
   "execution_count": null,
   "id": "34c4c3e3",
   "metadata": {},
   "outputs": [],
   "source": []
  }
 ],
 "metadata": {
  "kernelspec": {
   "display_name": "Python 3 (ipykernel)",
   "language": "python",
   "name": "python3"
  },
  "language_info": {
   "codemirror_mode": {
    "name": "ipython",
    "version": 3
   },
   "file_extension": ".py",
   "mimetype": "text/x-python",
   "name": "python",
   "nbconvert_exporter": "python",
   "pygments_lexer": "ipython3",
   "version": "3.8.16"
  }
 },
 "nbformat": 4,
 "nbformat_minor": 5
}
