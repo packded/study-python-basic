{
 "cells": [
  {
   "cell_type": "code",
   "execution_count": 1,
   "id": "6ad32a63",
   "metadata": {},
   "outputs": [],
   "source": [
    "friuts =['apple','banana','orange']"
   ]
  },
  {
   "cell_type": "code",
   "execution_count": 2,
   "id": "36455369",
   "metadata": {},
   "outputs": [
    {
     "name": "stdout",
     "output_type": "stream",
     "text": [
      "apple\n",
      "banana\n",
      "orange\n"
     ]
    }
   ],
   "source": [
    "for x in friuts:\n",
    "    print(x)"
   ]
  },
  {
   "cell_type": "code",
   "execution_count": 3,
   "id": "8771d191",
   "metadata": {},
   "outputs": [
    {
     "name": "stdout",
     "output_type": "stream",
     "text": [
      "x\n",
      "not apple\n",
      "not apple\n"
     ]
    }
   ],
   "source": [
    "for x in friuts:\n",
    "    if x == 'apple':\n",
    "        print('x')\n",
    "    else:\n",
    "        print('not apple')"
   ]
  },
  {
   "cell_type": "code",
   "execution_count": 4,
   "id": "2828947f",
   "metadata": {},
   "outputs": [
    {
     "name": "stdout",
     "output_type": "stream",
     "text": [
      "1\n",
      "2\n",
      "3\n"
     ]
    }
   ],
   "source": [
    "n = 0 \n",
    "for x in range(1,4):\n",
    "    n = n+1\n",
    "    print(n)"
   ]
  },
  {
   "cell_type": "code",
   "execution_count": 6,
   "id": "3874c6e3",
   "metadata": {},
   "outputs": [
    {
     "name": "stdout",
     "output_type": "stream",
     "text": [
      "1\n",
      "2\n",
      "3\n"
     ]
    }
   ],
   "source": [
    "for i in range(1,4):\n",
    "    print(i)"
   ]
  },
  {
   "cell_type": "code",
   "execution_count": 7,
   "id": "5b989798",
   "metadata": {},
   "outputs": [],
   "source": [
    "x = [1,2,3,4,5]\n",
    "y = ['a,','b','c','d','e']\n"
   ]
  },
  {
   "cell_type": "code",
   "execution_count": 8,
   "id": "aa941281",
   "metadata": {},
   "outputs": [
    {
     "name": "stdout",
     "output_type": "stream",
     "text": [
      "1\n",
      "**\n",
      "**\n",
      "**\n",
      "**\n",
      "**\n",
      "2\n",
      "**\n",
      "**\n",
      "**\n",
      "**\n",
      "**\n",
      "3\n",
      "**\n",
      "**\n",
      "**\n",
      "**\n",
      "**\n",
      "4\n",
      "**\n",
      "**\n",
      "**\n",
      "**\n",
      "**\n",
      "5\n",
      "**\n",
      "**\n",
      "**\n",
      "**\n",
      "**\n"
     ]
    }
   ],
   "source": [
    "for i in x:\n",
    "    print(i)\n",
    "    for j in y:\n",
    "        print('**')"
   ]
  },
  {
   "cell_type": "code",
   "execution_count": 9,
   "id": "b0ae9dc8",
   "metadata": {},
   "outputs": [
    {
     "name": "stdout",
     "output_type": "stream",
     "text": [
      "[1, 'a,']\n",
      "[1, 'b']\n",
      "[1, 'c']\n",
      "[1, 'd']\n",
      "[1, 'e']\n",
      "[2, 'a,']\n",
      "[2, 'b']\n",
      "[2, 'c']\n",
      "[2, 'd']\n",
      "[2, 'e']\n",
      "[3, 'a,']\n",
      "[3, 'b']\n",
      "[3, 'c']\n",
      "[3, 'd']\n",
      "[3, 'e']\n",
      "[4, 'a,']\n",
      "[4, 'b']\n",
      "[4, 'c']\n",
      "[4, 'd']\n",
      "[4, 'e']\n",
      "[5, 'a,']\n",
      "[5, 'b']\n",
      "[5, 'c']\n",
      "[5, 'd']\n",
      "[5, 'e']\n"
     ]
    }
   ],
   "source": [
    "for i in x:\n",
    "    for j in y:\n",
    "        print([i,j])"
   ]
  },
  {
   "cell_type": "code",
   "execution_count": 10,
   "id": "3234ac06",
   "metadata": {},
   "outputs": [
    {
     "name": "stdout",
     "output_type": "stream",
     "text": [
      "[1, 'a,', 30]\n",
      "[1, 'b', 40]\n",
      "[1, 'c', 50]\n",
      "[1, 'd', 60]\n",
      "[1, 'e', 70]\n",
      "[2, 'a,', 150]\n",
      "[2, 'b', 160]\n",
      "[2, 'c', 170]\n",
      "[2, 'd', 180]\n",
      "[2, 'e', 190]\n",
      "[3, 'a,', 390]\n",
      "[3, 'b', 400]\n",
      "[3, 'c', 410]\n",
      "[3, 'd', 420]\n",
      "[3, 'e', 430]\n",
      "[4, 'a,', 870]\n",
      "[4, 'b', 880]\n",
      "[4, 'c', 890]\n",
      "[4, 'd', 900]\n",
      "[4, 'e', 910]\n",
      "[5, 'a,', 1830]\n",
      "[5, 'b', 1840]\n",
      "[5, 'c', 1850]\n",
      "[5, 'd', 1860]\n",
      "[5, 'e', 1870]\n"
     ]
    }
   ],
   "source": [
    "n=10\n",
    "for i in x:\n",
    "    n = n*2\n",
    "    for j in y:\n",
    "        n= n+10\n",
    "        print([i,j,n])"
   ]
  },
  {
   "cell_type": "code",
   "execution_count": null,
   "id": "649065e9",
   "metadata": {},
   "outputs": [],
   "source": []
  }
 ],
 "metadata": {
  "kernelspec": {
   "display_name": "Python 3 (ipykernel)",
   "language": "python",
   "name": "python3"
  },
  "language_info": {
   "codemirror_mode": {
    "name": "ipython",
    "version": 3
   },
   "file_extension": ".py",
   "mimetype": "text/x-python",
   "name": "python",
   "nbconvert_exporter": "python",
   "pygments_lexer": "ipython3",
   "version": "3.8.16"
  }
 },
 "nbformat": 4,
 "nbformat_minor": 5
}
